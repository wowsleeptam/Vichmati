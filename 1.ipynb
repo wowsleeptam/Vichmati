{
 "cells": [
  {
   "cell_type": "markdown",
   "id": "a0dc4570-c7b0-4268-b1b7-e45491ef102d",
   "metadata": {},
   "source": [
    "\n",
    "__Упражнение 1 -  Numpy__\n",
    "1. Пусть у двух матриц совпадает количество строк. Объедините их в одну горизонтально (объедините столбцы этих матриц)\n",
    "\n",
    "2. Пусть дана пuтру-матрица $M$ и два массива индексов $a, b$ одинаковой длины. Постройте массив элементов $M[a[0], b[0]], M[a[1], b[1]], \\ldots$ Указание: для выполнения этой операции не требуется никаких именных функций.\n",
    "\n",
    "3. Подсчитайте след матрицы и количество ненулевых элементов на ее диагонали\n",
    "\n",
    "4. Даны два произвольных numpy-массива одинаковой размерности $(n, m)$. Замените нулями те элементы второго массива, для которых на соответствующем месте в первом массиве находятся отрицательные числа\n",
    "\n",
    "5. Даны две матрицы с одинаковым количеством строк и количеством столбцов $n$ и $m$ соответственно. Постройте матрицу $n \\times m$ всевозможных произведений столбцов друг на друга (в смысле скалярного произведения)."
   ]
  },
  {
   "cell_type": "code",
   "execution_count": 1,
   "id": "fc1a8bf4-3723-4927-8608-0db07c875509",
   "metadata": {},
   "outputs": [],
   "source": [
    "import numpy as np"
   ]
  },
  {
   "cell_type": "code",
   "execution_count": 30,
   "id": "965da703-a98f-4bbe-af53-93e9d5a05353",
   "metadata": {},
   "outputs": [
    {
     "name": "stdin",
     "output_type": "stream",
     "text": [
      " 4\n",
      " 5\n",
      " 6\n"
     ]
    },
    {
     "name": "stdout",
     "output_type": "stream",
     "text": [
      "[[1 0 0 0 0]\n",
      " [2 2 0 0 4]\n",
      " [2 2 0 1 0]\n",
      " [2 2 1 1 1]]\n",
      "[[1 3 3 0 0 3]\n",
      " [2 3 2 0 1 2]\n",
      " [2 1 1 3 0 0]\n",
      " [3 2 2 2 3 3]]\n",
      "[[1 0 0 0 0 1 3 3 0 0 3]\n",
      " [2 2 0 0 4 2 3 2 0 1 2]\n",
      " [2 2 0 1 0 2 1 1 3 0 0]\n",
      " [2 2 1 1 1 3 2 2 2 3 3]]\n"
     ]
    }
   ],
   "source": [
    "# 1 пункт\n",
    "n = int(input()) # Строка 1 и 2\n",
    "m = int(input()) # Строка 1\n",
    "l = int(input()) # Строка 2 \n",
    "A = np.random.randint(5, size=(n,m))\n",
    "B = np.random.randint(n, size=(n,l))\n",
    "C = np.concatenate((A, B), axis=1)\n",
    "\n",
    "print(A)\n",
    "print(B)\n",
    "print(C)\n",
    "\n",
    "\n"
   ]
  },
  {
   "cell_type": "markdown",
   "id": "7ee1cf3f-a3de-4e3f-b706-64ac54f5712b",
   "metadata": {},
   "source": [
    "2. Пусть дана пuтру-матрица $M$ и два массива индексов $a, b$ одинаковой длины. Постройте массив элементов $M[a[0], b[0]], M[a[1], b[1]], \\ldots$ Указание: для выполнения этой операции не требуется никаких именных функций."
   ]
  },
  {
   "cell_type": "code",
   "execution_count": 54,
   "id": "5ec6ddc7-7258-4cff-ae88-0279481366b8",
   "metadata": {},
   "outputs": [
    {
     "name": "stdin",
     "output_type": "stream",
     "text": [
      " 9\n"
     ]
    },
    {
     "name": "stdout",
     "output_type": "stream",
     "text": [
      "[[2 3 0 0 4 3 3 2 1]\n",
      " [4 1 0 0 2 4 2 1 4]\n",
      " [4 4 0 4 3 1 0 4 2]\n",
      " [0 3 3 3 0 0 1 4 1]\n",
      " [1 4 0 2 3 0 2 1 3]\n",
      " [1 2 0 0 4 3 3 2 4]\n",
      " [2 2 1 2 2 1 1 2 0]\n",
      " [3 3 3 1 3 2 3 0 0]\n",
      " [0 2 3 1 2 3 0 1 2]]\n",
      "\n",
      " [2 1 0 3 3 3 1 0 2]\n"
     ]
    }
   ],
   "source": [
    "###### 2 пункт\n",
    "n = int(input())\n",
    "A = np.random.randint(5, size=(n,n))\n",
    "a = np.arange(0,n)\n",
    "b = np.arange(0,n)\n",
    "print(A)\n",
    "answer = A[a,b]\n",
    "\n",
    "print(\"\\n\",answer)"
   ]
  },
  {
   "cell_type": "markdown",
   "id": "b294478e-5e77-4e6c-8409-699dd10cb6e0",
   "metadata": {},
   "source": [
    "3. Подсчитайте след матрицы и количество ненулевых элементов на ее диагонали"
   ]
  },
  {
   "cell_type": "code",
   "execution_count": 9,
   "id": "5447593d-466a-487d-95f8-28ab86b0d85b",
   "metadata": {},
   "outputs": [
    {
     "name": "stdin",
     "output_type": "stream",
     "text": [
      " 9\n"
     ]
    },
    {
     "name": "stdout",
     "output_type": "stream",
     "text": [
      "15\n",
      "[[3 2 2 0 4 0 3 1 2]\n",
      " [1 0 3 3 1 3 0 1 4]\n",
      " [1 0 2 0 0 3 2 1 2]\n",
      " [3 0 0 0 0 0 0 2 3]\n",
      " [3 2 3 0 1 0 3 3 3]\n",
      " [4 4 2 1 4 2 0 1 1]\n",
      " [4 2 2 0 4 2 1 0 3]\n",
      " [1 1 0 4 0 2 3 2 0]\n",
      " [1 3 4 0 0 4 2 1 4]]\n",
      "7\n"
     ]
    }
   ],
   "source": [
    "###### 3 пункт\n",
    "n = int(input())\n",
    "A = np.random.randint(5, size=(n,n))\n",
    "a = np.arange(0,n)\n",
    "b = np.arange(0,n)\n",
    "print(np.trace(A))\n",
    "a = A[a, b]\n",
    "print(A)\n",
    "print(np.count_nonzero(a))"
   ]
  },
  {
   "cell_type": "markdown",
   "id": "5a6bcf7a-89d0-4078-a946-b5bb3cf5479b",
   "metadata": {},
   "source": [
    "4. Даны два произвольных numpy-массива одинаковой размерности $(n, m)$. Замените нулями те элементы второго массива, для которых на соответствующем месте в первом массиве находятся отрицательные числа"
   ]
  },
  {
   "cell_type": "code",
   "execution_count": 50,
   "id": "b3751fd7-354d-4909-b031-97b3462458bc",
   "metadata": {},
   "outputs": [
    {
     "name": "stdin",
     "output_type": "stream",
     "text": [
      " 5\n",
      " 6\n"
     ]
    },
    {
     "name": "stdout",
     "output_type": "stream",
     "text": [
      "[[ 4 -1 10 -2 -3 -2]\n",
      " [-8  9 -6  2  1 10]\n",
      " [-6 -8 -4 -6 -1 -3]\n",
      " [-2 -8  9  6  5  9]\n",
      " [ 0  2  3  1  8 -3]]\n",
      "[[-2  0 -6  0  0  0]\n",
      " [ 0 -1  0 -4  7  6]\n",
      " [ 0  0  0  0  0  0]\n",
      " [ 0  0 -6  0 -9 -6]\n",
      " [10 -1 -8 -9  5  0]]\n"
     ]
    }
   ],
   "source": [
    "n = int(input())\n",
    "m = int(input())\n",
    "\n",
    "A = 10 - np.random.randint(20, size=(n,m))\n",
    "B = 10 - np.random.randint(20, size=(n,m))\n",
    "print(A)\n",
    "B = B * (1 - (A < 0))\n",
    "print(B)"
   ]
  },
  {
   "cell_type": "markdown",
   "id": "019b6408-edd1-450a-adcb-8ffb1c665619",
   "metadata": {},
   "source": [
    "5. Даны две матрицы с одинаковым количеством строк и количеством столбцов $n$ и $m$ соответственно. Постройте матрицу $n \\times m$ всевозможных произведений столбцов друг на друга (в смысле скалярного произведения)."
   ]
  },
  {
   "cell_type": "code",
   "execution_count": 79,
   "id": "cf1aecd7-d795-4d35-b43b-61c06f1b8180",
   "metadata": {},
   "outputs": [
    {
     "name": "stdin",
     "output_type": "stream",
     "text": [
      " 2\n",
      " 3\n"
     ]
    },
    {
     "name": "stdout",
     "output_type": "stream",
     "text": [
      "[[2 3 1]\n",
      " [1 2 0]] \n",
      "\n",
      " [[0 3 3]\n",
      " [3 1 3]]\n",
      "\n",
      " [[ 3.  7.  9.]\n",
      " [ 6. 11. 15.]]\n"
     ]
    }
   ],
   "source": [
    "n = int(input())\n",
    "m = int(input())\n",
    "A = np.random.randint(4, size=(n,m))\n",
    "B = np.random.randint(4, size=(n,m))\n",
    "answer = np.zeros((n,m))\n",
    "print(A, '\\n\\n', B)\n",
    "for i in range(n):\n",
    "    for j in range(m):\n",
    "        answer[i][j] = np.dot(A[:,i], B[:,j])\n",
    "print('\\n',answer)"
   ]
  },
  {
   "cell_type": "code",
   "execution_count": null,
   "id": "105a4ce1-961e-49c7-8da1-7a9b610e8c93",
   "metadata": {},
   "outputs": [],
   "source": []
  },
  {
   "cell_type": "code",
   "execution_count": null,
   "id": "1dc2d3f7-5155-49e1-a7c5-2041d2c1b351",
   "metadata": {},
   "outputs": [],
   "source": []
  }
 ],
 "metadata": {
  "kernelspec": {
   "display_name": "Python 3 (ipykernel)",
   "language": "python",
   "name": "python3"
  },
  "language_info": {
   "codemirror_mode": {
    "name": "ipython",
    "version": 3
   },
   "file_extension": ".py",
   "mimetype": "text/x-python",
   "name": "python",
   "nbconvert_exporter": "python",
   "pygments_lexer": "ipython3",
   "version": "3.11.5"
  }
 },
 "nbformat": 4,
 "nbformat_minor": 5
}
