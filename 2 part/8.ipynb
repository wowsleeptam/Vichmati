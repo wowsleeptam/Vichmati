{
  "nbformat": 4,
  "nbformat_minor": 0,
  "metadata": {
    "colab": {
      "provenance": []
    },
    "kernelspec": {
      "name": "python3",
      "display_name": "Python 3"
    },
    "language_info": {
      "name": "python"
    }
  },
  "cells": [
    {
      "cell_type": "markdown",
      "source": [
        "### 1. Путь к успеху.\n",
        "\n",
        "Поиграйтесь с параметрами последней модели (количество нейронов, количество слоёв, вероятность dropout, количество эпох), чтобы получить Accuracy 98.5+%.\n"
      ],
      "metadata": {
        "id": "xsdACrL-SwB3"
      }
    },
    {
      "cell_type": "code",
      "execution_count": null,
      "metadata": {
        "id": "MzgPT_3rcpxN"
      },
      "outputs": [],
      "source": [
        "import torch # 5 GB! Plus we'll need GPU later (probably)\n",
        "import numpy as np\n",
        "import matplotlib.pyplot as plt\n",
        "from sklearn.model_selection import train_test_split"
      ]
    },
    {
      "cell_type": "code",
      "source": [
        "from torchvision import datasets\n",
        "import torchvision.transforms as transforms\n",
        "\n",
        "# number of subprocesses to use for data loading\n",
        "num_workers = 0\n",
        "# how many samples per batch to load\n",
        "batch_size = 16\n",
        "\n",
        "# convert data to torch.FloatTensor\n",
        "transform = transforms.ToTensor()\n",
        "\n",
        "# choose the training and test datasets\n",
        "train_data = datasets.MNIST(root='data', train=True,\n",
        "                                   download=True, transform=transform)\n",
        "test_data = datasets.MNIST(root='data', train=False,\n",
        "                                  download=True, transform=transform)\n",
        "\n",
        "# prepare data loaders for stochastic gradient descent\n",
        "train_loader = torch.utils.data.DataLoader(train_data, batch_size=batch_size,\n",
        "    num_workers=num_workers)\n",
        "test_loader = torch.utils.data.DataLoader(test_data, batch_size=batch_size,\n",
        "    num_workers=num_workers)"
      ],
      "metadata": {
        "id": "ggQytw9ySqPw"
      },
      "execution_count": null,
      "outputs": []
    },
    {
      "cell_type": "code",
      "source": [],
      "metadata": {
        "id": "gMoLWPO1SqbJ"
      },
      "execution_count": null,
      "outputs": []
    },
    {
      "cell_type": "markdown",
      "source": [
        "Определение модели\n"
      ],
      "metadata": {
        "id": "ttZUy-7ZTPCK"
      }
    },
    {
      "cell_type": "code",
      "source": [
        "import torch.nn as nn\n",
        "import torch.nn.functional as F\n",
        "\n",
        "## TODO: Define the NN architecture\n",
        "class Net(nn.Module):\n",
        "    def __init__(self):\n",
        "        super(Net, self).__init__()\n",
        "        # linear layer (784 -> 1 hidden node)\n",
        "        self.fc1 = nn.Linear(28 * 28, 1024)\n",
        "        self.fc2 = nn.Linear(1024, 512)\n",
        "        self.fc3 = nn.Linear(512, 256)\n",
        "        self.fc4 = nn.Linear(256, 100)\n",
        "        self.fc5 = nn.Linear(100, 50)\n",
        "        self.dropout = nn.Dropout(p=0.1) # google it\n",
        "\n",
        "    def forward(self, x):\n",
        "        # flatten image input\n",
        "        x = x.view(-1, 28 * 28)\n",
        "        # add hidden layer, with relu activation function\n",
        "        x = self.dropout(F.relu(self.fc1(x)))\n",
        "        x = self.dropout(F.relu(self.fc2(x)))\n",
        "        x = self.dropout(F.relu(self.fc3(x)))\n",
        "        x = self.dropout(F.relu(self.fc4(x)))\n",
        "        x = self.fc5(x)\n",
        "        return x\n",
        "\n",
        "# initialize the NN\n",
        "model = Net()\n",
        "print(model)"
      ],
      "metadata": {
        "colab": {
          "base_uri": "https://localhost:8080/"
        },
        "id": "q-NKKeMBSqdh",
        "outputId": "9633ffbd-746b-4bc5-d174-307ed7132c82"
      },
      "execution_count": null,
      "outputs": [
        {
          "output_type": "stream",
          "name": "stdout",
          "text": [
            "Net(\n",
            "  (fc1): Linear(in_features=784, out_features=1024, bias=True)\n",
            "  (fc2): Linear(in_features=1024, out_features=512, bias=True)\n",
            "  (fc3): Linear(in_features=512, out_features=256, bias=True)\n",
            "  (fc4): Linear(in_features=256, out_features=100, bias=True)\n",
            "  (fc5): Linear(in_features=100, out_features=50, bias=True)\n",
            "  (dropout): Dropout(p=0.1, inplace=False)\n",
            ")\n"
          ]
        }
      ]
    },
    {
      "cell_type": "markdown",
      "source": [
        "Обучение"
      ],
      "metadata": {
        "id": "utwzjc4CTWWa"
      }
    },
    {
      "cell_type": "code",
      "source": [
        "## TODO: Specify loss and optimization functions\n",
        "\n",
        "# specify loss function\n",
        "criterion = nn.CrossEntropyLoss()\n",
        "\n",
        "# specify optimizer\n",
        "optimizer = torch.optim.SGD(model.parameters(), lr=0.05) # Try lr=0.05 and n_epochs=1\n",
        "\n",
        "# number of epochs to train the model\n",
        "n_epochs = 50  # suggest training between 20-50 epochs\n",
        "\n",
        "model.train() # prep model for training (enables dropout)\n",
        "\n",
        "for epoch in range(n_epochs):\n",
        "    # monitor training loss\n",
        "    train_loss = 0.0\n",
        "\n",
        "    ###################\n",
        "    # train the model #\n",
        "    ###################\n",
        "    for data, target in train_loader:\n",
        "        # clear the gradients of all optimized variables\n",
        "        optimizer.zero_grad()\n",
        "        # forward pass: compute predicted outputs by passing inputs to the model\n",
        "        output = model(data)\n",
        "        # calculate the loss\n",
        "        loss = criterion(output, target)\n",
        "        # backward pass: compute gradient of the loss with respect to model parameters\n",
        "        loss.backward()\n",
        "        # perform a single optimization step (parameter update)\n",
        "        optimizer.step()\n",
        "        # update running training loss\n",
        "        train_loss += loss.item()*data.size(0)\n",
        "\n",
        "    # print training statistics\n",
        "    # calculate average loss over an epoch\n",
        "    train_loss = train_loss/len(train_loader.dataset)\n",
        "\n",
        "    print('Epoch: {} \\tTraining Loss: {:.6f}'.format(\n",
        "        epoch+1,\n",
        "        train_loss\n",
        "        ))"
      ],
      "metadata": {
        "colab": {
          "base_uri": "https://localhost:8080/"
        },
        "id": "PCSryJ6vSqf7",
        "outputId": "c7ea2948-9edd-49a4-cba8-ff19357a2263"
      },
      "execution_count": null,
      "outputs": [
        {
          "output_type": "stream",
          "name": "stdout",
          "text": [
            "Epoch: 1 \tTraining Loss: 0.015066\n",
            "Epoch: 2 \tTraining Loss: 0.015836\n",
            "Epoch: 3 \tTraining Loss: 0.015098\n",
            "Epoch: 4 \tTraining Loss: 0.012993\n",
            "Epoch: 5 \tTraining Loss: 0.014666\n",
            "Epoch: 6 \tTraining Loss: 0.010467\n",
            "Epoch: 7 \tTraining Loss: 0.010794\n",
            "Epoch: 8 \tTraining Loss: 0.008617\n",
            "Epoch: 9 \tTraining Loss: 0.005979\n",
            "Epoch: 10 \tTraining Loss: 0.009263\n",
            "Epoch: 11 \tTraining Loss: 0.008129\n",
            "Epoch: 12 \tTraining Loss: 0.006006\n",
            "Epoch: 13 \tTraining Loss: 0.007733\n",
            "Epoch: 14 \tTraining Loss: 0.005404\n",
            "Epoch: 15 \tTraining Loss: 0.005813\n",
            "Epoch: 16 \tTraining Loss: 0.007260\n",
            "Epoch: 17 \tTraining Loss: 0.005740\n",
            "Epoch: 18 \tTraining Loss: 0.005955\n",
            "Epoch: 19 \tTraining Loss: 0.004207\n",
            "Epoch: 20 \tTraining Loss: 0.007380\n",
            "Epoch: 21 \tTraining Loss: 0.005606\n",
            "Epoch: 22 \tTraining Loss: 0.004979\n",
            "Epoch: 23 \tTraining Loss: 0.003140\n",
            "Epoch: 24 \tTraining Loss: 0.003799\n",
            "Epoch: 25 \tTraining Loss: 0.004494\n",
            "Epoch: 26 \tTraining Loss: 0.005127\n",
            "Epoch: 27 \tTraining Loss: 0.003250\n",
            "Epoch: 28 \tTraining Loss: 0.003305\n",
            "Epoch: 29 \tTraining Loss: 0.004025\n",
            "Epoch: 30 \tTraining Loss: 0.003084\n",
            "Epoch: 31 \tTraining Loss: 0.002766\n",
            "Epoch: 32 \tTraining Loss: 0.002168\n",
            "Epoch: 33 \tTraining Loss: 0.001201\n",
            "Epoch: 34 \tTraining Loss: 0.004397\n",
            "Epoch: 35 \tTraining Loss: 0.002547\n",
            "Epoch: 36 \tTraining Loss: 0.001846\n",
            "Epoch: 37 \tTraining Loss: 0.001900\n",
            "Epoch: 38 \tTraining Loss: 0.002531\n",
            "Epoch: 39 \tTraining Loss: 0.001181\n",
            "Epoch: 40 \tTraining Loss: 0.001162\n",
            "Epoch: 41 \tTraining Loss: 0.001489\n",
            "Epoch: 42 \tTraining Loss: 0.001998\n",
            "Epoch: 43 \tTraining Loss: 0.002466\n",
            "Epoch: 44 \tTraining Loss: 0.002319\n",
            "Epoch: 45 \tTraining Loss: 0.002552\n",
            "Epoch: 46 \tTraining Loss: 0.001443\n",
            "Epoch: 47 \tTraining Loss: 0.000949\n",
            "Epoch: 48 \tTraining Loss: 0.002022\n",
            "Epoch: 49 \tTraining Loss: 0.001041\n",
            "Epoch: 50 \tTraining Loss: 0.001794\n"
          ]
        }
      ]
    },
    {
      "cell_type": "markdown",
      "source": [
        "Тест"
      ],
      "metadata": {
        "id": "weQZH3AQTcku"
      }
    },
    {
      "cell_type": "markdown",
      "source": [],
      "metadata": {
        "id": "EjcLe2NOTds-"
      }
    },
    {
      "cell_type": "code",
      "source": [
        "# initialize lists to monitor test loss and accuracy\n",
        "test_loss = 0.0\n",
        "class_correct = list(0. for i in range(10))\n",
        "class_total = list(0. for i in range(10))\n",
        "\n",
        "model.eval() # prep model for *evaluation*\n",
        "\n",
        "for data, target in test_loader:\n",
        "    # forward pass: compute predicted outputs by passing inputs to the model\n",
        "    output = model(data)\n",
        "    # calculate the loss\n",
        "    loss = criterion(output, target)\n",
        "    # update test loss\n",
        "    test_loss += loss.item()*data.size(0)\n",
        "    # convert output probabilities to predicted class\n",
        "    _, pred = torch.max(output, 1)\n",
        "    # compare predictions to true label\n",
        "    correct = np.squeeze(pred.eq(target.data.view_as(pred)))\n",
        "    # calculate test accuracy for each object class\n",
        "    for i in range(batch_size):\n",
        "        label = target.data[i]\n",
        "        class_correct[label] += correct[i].item()\n",
        "        class_total[label] += 1\n",
        "\n",
        "# calculate and print avg test loss\n",
        "test_loss = test_loss/len(test_loader.dataset)\n",
        "print('Test Loss: {:.6f}\\n'.format(test_loss))\n",
        "\n",
        "for i in range(10):\n",
        "    if class_total[i] > 0:\n",
        "        print('Test Accuracy of %5s: %2d%% (%2d/%2d)' % (\n",
        "            str(i), 100. * class_correct[i] / class_total[i],\n",
        "            np.sum(class_correct[i]), np.sum(class_total[i])))\n",
        "    else:\n",
        "        print('Test Accuracy of %5s: N/A (no training examples)' % (classes[i]))\n",
        "\n",
        "print('\\nTest Accuracy (Overall): %2d%% (%2d/%2d)' % (\n",
        "    100. * np.sum(class_correct) / np.sum(class_total),\n",
        "    np.sum(class_correct), np.sum(class_total)))"
      ],
      "metadata": {
        "colab": {
          "base_uri": "https://localhost:8080/"
        },
        "id": "iwVrxp5JSqiI",
        "outputId": "bb26c28d-7297-4166-86ab-af98c8d89b7d"
      },
      "execution_count": null,
      "outputs": [
        {
          "output_type": "stream",
          "name": "stdout",
          "text": [
            "Test Loss: 0.083959\n",
            "\n",
            "Test Accuracy of     0: 99% (974/980)\n",
            "Test Accuracy of     1: 99% (1131/1135)\n",
            "Test Accuracy of     2: 98% (1016/1032)\n",
            "Test Accuracy of     3: 97% (988/1010)\n",
            "Test Accuracy of     4: 97% (962/982)\n",
            "Test Accuracy of     5: 98% (876/892)\n",
            "Test Accuracy of     6: 98% (941/958)\n",
            "Test Accuracy of     7: 98% (1012/1028)\n",
            "Test Accuracy of     8: 98% (959/974)\n",
            "Test Accuracy of     9: 98% (995/1009)\n",
            "\n",
            "Test Accuracy (Overall): 98% (9854/10000)\n"
          ]
        }
      ]
    },
    {
      "cell_type": "code",
      "source": [
        "# obtain one batch of test images\n",
        "dataiter = iter(test_loader)\n",
        "images, labels = next(dataiter)\n",
        "\n",
        "# get sample outputs\n",
        "output = model(images)\n",
        "# convert output probabilities to predicted class\n",
        "_, preds = torch.max(output, 1)\n",
        "# prep images for display\n",
        "images = images.numpy()\n",
        "\n",
        "# plot the images in the batch, along with predicted and true labels\n",
        "fig = plt.figure(figsize=(25, 4))\n",
        "for idx in np.arange(16):\n",
        "    ax = fig.add_subplot(2, 16//2, idx+1, xticks=[], yticks=[])\n",
        "    ax.imshow(np.squeeze(images[idx]), cmap='gray')\n",
        "    ax.set_title(\"{} ({})\".format(str(preds[idx].item()), str(labels[idx].item())),\n",
        "                 color=(\"green\" if preds[idx]==labels[idx] else \"red\"))"
      ],
      "metadata": {
        "colab": {
          "base_uri": "https://localhost:8080/",
          "height": 133
        },
        "id": "_Ch6Sm1vSqkh",
        "outputId": "a74f744b-8613-4aff-ce84-3ac958b1d7d0"
      },
      "execution_count": null,
      "outputs": [
        {
          "output_type": "display_data",
          "data": {
            "text/plain": [
              "<Figure size 2500x400 with 16 Axes>"
            ],
            "image/png": "[encoded data removed]"
          },
          "metadata": {}
        }
      ]
    },
    {
      "cell_type": "markdown",
      "source": [
        "![image.png](data:image/png;base64,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)\n",
        "\n"
      ],
      "metadata": {
        "id": "ga2ZsA070ZPc"
      }
    },
    {
      "cell_type": "markdown",
      "source": [
        "Можно сказать, что это больше $98,5433\\%$\n",
        "\n"
      ],
      "metadata": {
        "id": "-ph6jzVc3caP"
      }
    },
    {
      "cell_type": "markdown",
      "source": [
        "2. Метрики качества.\n",
        "Для любой из цифр постройте confusion matrix итоговой модели. Определите accuracy, precison и recall в классификации этой цифры."
      ],
      "metadata": {
        "id": "_NZTdCAM3wsD"
      }
    },
    {
      "cell_type": "code",
      "source": [
        "# initialize lists to monitor test loss and accuracy\n",
        "test_loss = 0.0\n",
        "class_correct = list(0. for i in range(10))\n",
        "class_total = list(0. for i in range(10))\n",
        "\n",
        "model.eval() # prep model for *evaluation*\n",
        "\n",
        "for data, target in test_loader:\n",
        "    # forward pass: compute predicted outputs by passing inputs to the model\n",
        "    output = model(data)\n",
        "    # calculate the loss\n",
        "    loss = criterion(output, target)\n",
        "    # update test loss\n",
        "    test_loss += loss.item()*data.size(0)\n",
        "    # convert output probabilities to predicted class\n",
        "    _, pred = torch.max(output, 1)\n",
        "    # compare predictions to true label\n",
        "    correct = np.squeeze(pred.eq(target.data.view_as(pred)))\n",
        "    # calculate test accuracy for each object class\n",
        "    for i in range(batch_size):\n",
        "        label = target.data[i]\n",
        "        class_correct[label] += correct[i].item()\n",
        "        class_total[label] += 1\n",
        "\n",
        "# calculate and print avg test loss\n",
        "test_loss = test_loss/len(test_loader.dataset)\n",
        "print('Test Loss: {:.6f}\\n'.format(test_loss))\n",
        "\n",
        "for i in range(10):\n",
        "    if class_total[i] > 0:\n",
        "        print('Test Accuracy of %5s: %2d%% (%2d/%2d)' % (\n",
        "            str(i), 100. * class_correct[i] / class_total[i],\n",
        "            np.sum(class_correct[i]), np.sum(class_total[i])))\n",
        "    else:\n",
        "        print('Test Accuracy of %5s: N/A (no training examples)' % (classes[i]))\n",
        "\n",
        "print('\\nTest Accuracy (Overall): %2d%% (%2d/%2d)' % (\n",
        "    100. * np.sum(class_correct) / np.sum(class_total),\n",
        "    np.sum(class_correct), np.sum(class_total)))"
      ],
      "metadata": {
        "colab": {
          "base_uri": "https://localhost:8080/"
        },
        "id": "H-p_T_PY3mg4",
        "outputId": "92c1b882-1065-4e3a-8da9-20aa3333fc55"
      },
      "execution_count": null,
      "outputs": [
        {
          "output_type": "stream",
          "name": "stdout",
          "text": [
            "Test Loss: 0.047941\n",
            "\n",
            "Test Accuracy of     0:  0% ( 0/ 1)\n",
            "Test Accuracy of     1:  0% ( 0/ 2)\n",
            "Test Accuracy of     2: 50% ( 1/ 2)\n",
            "Test Accuracy of     3:  0% ( 0/ 2)\n",
            "Test Accuracy of     4:  0% ( 0/ 2)\n",
            "Test Accuracy of     5:  0% ( 0/ 2)\n",
            "Test Accuracy of     6:  0% ( 0/ 2)\n",
            "Test Accuracy of     7:  0% ( 0/ 1)\n",
            "Test Accuracy of     8:  0% ( 0/ 1)\n",
            "Test Accuracy of     9:  0% ( 0/ 1)\n",
            "\n",
            "Test Accuracy (Overall):  6% ( 1/16)\n"
          ]
        }
      ]
    },
    {
      "cell_type": "code",
      "source": [],
      "metadata": {
        "id": "wekXKd7Z9Cbv"
      },
      "execution_count": null,
      "outputs": []
    }
  ]
}