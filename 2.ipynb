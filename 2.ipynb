{
 "cells": [
  {
   "cell_type": "markdown",
   "id": "521117cf-f527-4367-b1b8-31fdd7dae579",
   "metadata": {},
   "source": [
    "## Домашнее задание\n",
    "\n",
    "__Задание 1. Генератор случайных матриц.__\n",
    "\n",
    "Реализовать генератор матриц, который должен поддерживать функции:\n",
    "* Генерация абсолютно случайной матрицы $n\\times m$ -\n",
    "* Генерация случайной диагональной матрицы $n\\times n$ -\n",
    "* Генерация случайной верхнетреугольной матрицы -\n",
    "* Генерация случайной нижнетреугольной матрицы-\n",
    "* Генерация симметричной матрицы -\n",
    "* Генерация вырожденной матрицы - \n",
    "* Генерация матрицы ступенчатого вида $n\\times n$ ранга $m$\n",
    "* Генерация возмущения матрицы $n\\times m$, каждый элемент которой не превосходит по модулю заданный $\\varepsilon$. Оценить величину нормы матрицы возмущений в зависимости от параметра $\\varepsilon$ (оценить верхную границу).\n",
    "\n",
    "Оценить численно вероятность того, что созданная матрица будет вырожденной для какого-либо случая выше."
   ]
  },
  {
   "cell_type": "code",
   "execution_count": 54,
   "id": "07d6a760-61ca-4a28-b557-4340d828b2cb",
   "metadata": {},
   "outputs": [],
   "source": [
    "import numpy as np\n",
    "\n",
    "def matrix_generate(rows, columns, type_ = \"full\", eps = 0):\n",
    "\n",
    "    A = None\n",
    "\n",
    "    if type_ == \"full\":\n",
    "\n",
    "        A = np.random.random(size=(rows, columns))\n",
    "\n",
    "    \n",
    "    elif type_ == \"down_triangular\":\n",
    "\n",
    "        A = np.random.random(size=(rows, columns))\n",
    "\n",
    "        for i in range(rows):\n",
    "            for j in range(columns):\n",
    "                if (i < j):\n",
    "                    A[i, j] = 0\n",
    "\n",
    "        # Для нижнетреугольной подумайте, как сделать без циклов for :) (звёздочка)\n",
    "\n",
    "    elif type_ == \"upper_triangular\":\n",
    "\n",
    "        A = np.random.random(size=(rows, columns))\n",
    "\n",
    "        for i in range(rows):\n",
    "            for j in range(columns):\n",
    "                if (i > j):\n",
    "                    A[i, j] = 0\n",
    "\n",
    "        # Для нижнетреугольной подумайте, как сделать без циклов for :) (звёздочка)\n",
    "\n",
    "    elif type_ == \"symmetric\":\n",
    "\n",
    "        if rows != columns:\n",
    "            return f\"Error with type {type_} and shape ({rows},{columns})\"\n",
    "\n",
    "        else:\n",
    "\n",
    "            A = np.random.random(size=(rows, columns))\n",
    "\n",
    "            for i in range(rows):\n",
    "                for j in range(columns):\n",
    "                    if (i > j):\n",
    "                        A[i, j] = A[j, i]\n",
    "\n",
    "    elif type_ == \"degenerate\":\n",
    "\n",
    "        if rows != columns:\n",
    "            return f\"Error with type {type_} and shape ({rows},{columns})\"\n",
    "\n",
    "        else:\n",
    "\n",
    "            A = np.random.random(size=(rows, columns))\n",
    "\n",
    "            for i in range(1, rows):\n",
    "                for j in range(columns):\n",
    "                        A[i, j] = (1+i)*A[0, j]\n",
    "\n",
    "\n",
    "    elif type_ == \"diagonal\":\n",
    "\n",
    "        if rows != columns:\n",
    "            return f\"Error with type {type_} and shape ({rows},{columns})\"\n",
    "\n",
    "        else:\n",
    "\n",
    "            A = np.random.random(size=(rows, columns))\n",
    "\n",
    "            for i in range(rows):\n",
    "                for j in range(columns):\n",
    "                    if (i != j):\n",
    "                        A[i,j] = 0\n",
    "\n",
    "            # И эту секцую тоже перепишите без for (звёздочка). Учтите, что портить uniform распределение нельзя.\n",
    "\n",
    "    elif type_ == \"stepwise\":\n",
    "\n",
    "        A = np.random.random(size=(rows, rows))\n",
    "        for i in range(rows):\n",
    "            for j in range(rows):\n",
    "                if (i > j):\n",
    "                    A[i,j] = 0\n",
    "        for m in range(rows - columns):\n",
    "            for j in range(rows):\n",
    "                A[rows-m-1][j] = 0\n",
    "                    \n",
    "\n",
    "\n",
    "    return A"
   ]
  },
  {
   "cell_type": "code",
   "execution_count": 3,
   "id": "dc1565bb-ae86-472c-93e3-a880885c4e9e",
   "metadata": {},
   "outputs": [
    {
     "data": {
      "text/plain": [
       "array([[0.10055617, 0.85013716, 0.8588409 ]])"
      ]
     },
     "execution_count": 3,
     "metadata": {},
     "output_type": "execute_result"
    }
   ],
   "source": [
    "matrix_generate(1, 3)"
   ]
  },
  {
   "cell_type": "code",
   "execution_count": 6,
   "id": "443f3269-ead9-4314-b1c5-c4eac3c48117",
   "metadata": {},
   "outputs": [
    {
     "data": {
      "text/plain": [
       "array([[0.78927594, 0.        ],\n",
       "       [0.00401806, 0.33667584],\n",
       "       [0.4596083 , 0.92819929],\n",
       "       [0.6963258 , 0.93775909]])"
      ]
     },
     "execution_count": 6,
     "metadata": {},
     "output_type": "execute_result"
    }
   ],
   "source": [
    "matrix_generate(4, 2, type_ = \"down_triangular\")"
   ]
  },
  {
   "cell_type": "code",
   "execution_count": 13,
   "id": "e0270455-f144-4069-b3bf-af03592c82ab",
   "metadata": {},
   "outputs": [
    {
     "data": {
      "text/plain": [
       "array([[0.74154166, 0.        , 0.        , 0.        ],\n",
       "       [0.        , 0.429191  , 0.        , 0.        ],\n",
       "       [0.        , 0.        , 0.58830367, 0.        ],\n",
       "       [0.        , 0.        , 0.        , 0.80183308]])"
      ]
     },
     "execution_count": 13,
     "metadata": {},
     "output_type": "execute_result"
    }
   ],
   "source": [
    "matrix_generate(4, 4, type_ = \"diagonal\")"
   ]
  },
  {
   "cell_type": "code",
   "execution_count": 18,
   "id": "2ba1696b-8734-4b02-ac5b-3af03f56f687",
   "metadata": {},
   "outputs": [
    {
     "data": {
      "text/plain": [
       "0.0"
      ]
     },
     "execution_count": 18,
     "metadata": {},
     "output_type": "execute_result"
    }
   ],
   "source": [
    "a = matrix_generate(4, 4, type_ = \"degenerate\")\n",
    "np.linalg.det(a)"
   ]
  },
  {
   "cell_type": "code",
   "execution_count": 59,
   "id": "9f6c13fa-9665-4a20-9010-c4b799b880d2",
   "metadata": {},
   "outputs": [
    {
     "name": "stdout",
     "output_type": "stream",
     "text": [
      "[[0.24129546 0.56553891 0.91920493 0.16082176 0.40749942 0.81601009]\n",
      " [0.         0.90139662 0.04577891 0.31828164 0.1230551  0.81303241]\n",
      " [0.         0.         0.22872778 0.19833349 0.65747729 0.34450375]\n",
      " [0.         0.         0.         0.25485052 0.59232852 0.68884517]\n",
      " [0.         0.         0.         0.         0.         0.        ]\n",
      " [0.         0.         0.         0.         0.         0.        ]]\n"
     ]
    }
   ],
   "source": [
    "\n",
    "print(matrix_generate(6, 4, type_ = \"stepwise\"))"
   ]
  },
  {
   "cell_type": "code",
   "execution_count": null,
   "id": "9bdd985d-d625-481f-acc4-3d03874a1862",
   "metadata": {},
   "outputs": [],
   "source": []
  },
  {
   "cell_type": "code",
   "execution_count": null,
   "id": "b93cfd78-7114-403e-9f52-9672bb9caf34",
   "metadata": {},
   "outputs": [],
   "source": []
  }
 ],
 "metadata": {
  "kernelspec": {
   "display_name": "Python 3 (ipykernel)",
   "language": "python",
   "name": "python3"
  },
  "language_info": {
   "codemirror_mode": {
    "name": "ipython",
    "version": 3
   },
   "file_extension": ".py",
   "mimetype": "text/x-python",
   "name": "python",
   "nbconvert_exporter": "python",
   "pygments_lexer": "ipython3",
   "version": "3.11.5"
  }
 },
 "nbformat": 4,
 "nbformat_minor": 5
}
