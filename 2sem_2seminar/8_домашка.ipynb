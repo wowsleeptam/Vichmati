{
 "cells": [
  {
   "cell_type": "markdown",
   "id": "e2cdec02-1b1f-4fb9-81a5-643289a701c8",
   "metadata": {},
   "source": [
    "__Задача 1.__\n",
    "Исследовать на аппроксимацию и устойчивость разностную схему\n",
    "\n",
    "$$\n",
    "\\begin{aligned}\n",
    "& \\frac{y_k^{n+1}-y_k^n}{\\tau}+\\frac{a}{2}\\left[\\frac{y_{k+1}^{n+1}-y_{k-1}^{n+1}}{2 h}+\\frac{y_{k+1}^n-y_{k-1}^n}{2 h}\\right]=\\frac{1}{2}\\left(f_k^{n+1}+f_k^n\\right), \\\\\n",
    "& y_k^0=\\varphi\\left(x_k\\right) \\quad k=0, \\pm 1, \\ldots, n=0,1,2, \\ldots\n",
    "\\end{aligned}\n",
    "$$\n",
    "\n",
    "для задачи \n",
    "\n",
    "$$u_t+a u_x=f(t, x) \\quad u(0, x)=\\varphi(x) \\quad t \\geq 0 \\quad -\\infty<x<\\infty$$\n",
    "\n",
    "Решите численно задачу. "
   ]
  },
  {
   "cell_type": "code",
   "execution_count": 51,
   "id": "2aa971a4-e468-4476-8570-aa813a0e3227",
   "metadata": {},
   "outputs": [
    {
     "data": {
      "text/latex": [
       "$\\displaystyle \\left. \\frac{\\partial}{\\partial \\xi_{2}} u{\\left(x,\\xi_{2} \\right)} \\right|_{\\substack{ \\xi_{2}=t }} - \\left. \\frac{\\partial}{\\partial \\xi_{1}} u{\\left(\\xi_{1},t \\right)} \\right|_{\\substack{ \\xi_{1}=x }} - f{\\left(x,t \\right)} + \\frac{\\tau \\left. \\frac{\\partial^{2}}{\\partial \\xi_{2}^{2}} u{\\left(x,\\xi_{2} \\right)} \\right|_{\\substack{ \\xi_{2}=t }}}{2} + \\frac{\\tau^{2} \\left. \\frac{\\partial^{3}}{\\partial \\xi_{2}^{3}} u{\\left(x,\\xi_{2} \\right)} \\right|_{\\substack{ \\xi_{2}=t }}}{6} + \\frac{\\tau^{3} \\left. \\frac{\\partial^{4}}{\\partial \\xi_{2}^{4}} u{\\left(x,\\xi_{2} \\right)} \\right|_{\\substack{ \\xi_{2}=t }}}{24} - \\frac{h^{2} \\left. \\frac{\\partial^{3}}{\\partial \\xi_{1}^{3}} u{\\left(\\xi_{1},t \\right)} \\right|_{\\substack{ \\xi_{1}=x }}}{6} + O\\left(\\tau^{4}\\right) + O\\left(h^{4}\\right)$"
      ],
      "text/plain": [
       "Subs(Derivative(u(x, _xi_2), _xi_2), _xi_2, t) - Subs(Derivative(u(_xi_1, t), _xi_1), _xi_1, x) - f(x, t) + tau*Subs(Derivative(u(x, _xi_2), (_xi_2, 2)), _xi_2, t)/2 + tau**2*Subs(Derivative(u(x, _xi_2), (_xi_2, 3)), _xi_2, t)/6 + tau**3*Subs(Derivative(u(x, _xi_2), (_xi_2, 4)), _xi_2, t)/24 - h**2*Subs(Derivative(u(_xi_1, t), (_xi_1, 3)), _xi_1, x)/6 + O(tau**4) + O(h**4)"
      ]
     },
     "execution_count": 51,
     "metadata": {},
     "output_type": "execute_result"
    }
   ],
   "source": [
    "import sympy as sp\n",
    "\n",
    "# Define the symbolic variables\n",
    "f, x, t, h, tau = sp.symbols('f x t h tau')\n",
    "\n",
    "# Define the symbolic function u(x,t)\n",
    "u = sp.Function('u')(x,t)\n",
    "f = sp.Function('f')(x,t)\n",
    "\n",
    "\n",
    "# Define the finite difference scheme for u_t = u_x + f\n",
    "ut = (u.subs(t, t+tau) - u) / tau\n",
    "ux = (u.subs(x+h, x+h) - u.subs(x+h, x-h)) / (2*h) + (u.subs(x, x+h) - u.subs(x, x-h)) / (2*h)\n",
    "f_n = (f.subs(x+h,t) + f)/2\n",
    "\n",
    "# Define the Taylor series expansion of u(x+h,t+tau) and u(x-h,t+tau)\n",
    "ut_series = sp.series(ut, tau, x0=0, n=4)\n",
    "ux_series = sp.series(ux, h, x0=0, n=4)\n",
    "ut_series - ux_series - f"
   ]
  },
  {
   "cell_type": "markdown",
   "id": "ef4d61c5-43ff-458b-8ef0-af25e7164a3e",
   "metadata": {},
   "source": [
    "Видим, что порядок аппроксимации $O(\\tau, h^2)$. "
   ]
  },
  {
   "cell_type": "code",
   "execution_count": null,
   "id": "8ffcf375-67d9-4448-96e0-94b2f2eeae0f",
   "metadata": {},
   "outputs": [],
   "source": []
  },
  {
   "cell_type": "code",
   "execution_count": null,
   "id": "2072ab38-141a-4256-856b-e76794ecefd1",
   "metadata": {},
   "outputs": [],
   "source": []
  },
  {
   "cell_type": "markdown",
   "id": "79473082-7152-460e-bb61-06e5d2f86d3a",
   "metadata": {},
   "source": [
    "__Задача 2.__\n",
    "\n",
    "Построить две разностные схемы для задачи c разными шаблонами\n",
    "$$\n",
    "\\frac{\\partial u}{\\partial t}-a^2(x, t) \\frac{\\partial^2 u}{\\partial x^2}=0, \\quad u(x, 0)=\\psi(x),\n",
    "$$\n",
    "Спектральным признаком исследовать полученные схемы на устойчивость, используя принцип замороженных коэффициентов."
   ]
  },
  {
   "cell_type": "markdown",
   "id": "aa7ae7e2-077e-415d-a228-a4294635a130",
   "metadata": {},
   "source": [
    "__Задача 3.__ Получите с помощью схемы переменных направлений решение двумерной задачи нестационарной теплопроводности в квадрате при следующих начальных и краевых условиях:\n",
    "\n",
    "$$\n",
    "\\begin{aligned}\n",
    "& u_t=u_{x x}+u_{y y}+f(x, y, t), \\quad 0 \\leq x \\leq 1, \\;0 \\leq y \\leq 1, \\;0<t, \\\\ \\\\\n",
    "& f(x, y, t)=2 \\pi^2 \\sin (\\pi x) \\sin (\\pi y), \\\\\n",
    "& u(0, y, t)=0, \\;u(1, y, t)=0, \\; u(x, 0, t)=0,\\; u(x, 1, t)=0, \\;0<t, \\\\\n",
    "& u(x, y, 0)=0, \\; 0 \\leq x \\leq 1, \\;0 \\leq y \\leq 1 .\n",
    "\\end{aligned}\n",
    "$$\n",
    "\n",
    "Проверьте, что точным решением дифференциальной задачи является $u(x, y, t)=\\left(1-\\exp \\left(-\\pi^2 t\\right)\\right) \\sin (\\pi x) \\sin (\\pi y)$. Сгущением сеток и сравнением с сеточной проекцией точного решения покажите, что схема имеет второй порядок сходимости по всем переменным (т.е. проверить порядок аппроксимации __экспериментально__)."
   ]
  },
  {
   "cell_type": "code",
   "execution_count": null,
   "id": "2ab8d521-8a97-47e3-9bbc-f17aa442f686",
   "metadata": {},
   "outputs": [],
   "source": [
    "import numpy as np\n",
    "import matplotlib.pyplot as plt\n",
    "from matplotlib import cm\n",
    "\n",
    "L = 1.0\n",
    "T = 0.2\n",
    "Nx = 100\n",
    "Nt = 10000\n",
    "h = L/(Nx-1)\n",
    "tau = T/(Nt-1)\n",
    "x = np.linspace(0, L, Nx)\n",
    "t = np.linspace(0, T, Nt)\n",
    "\n",
    "# Initial and boundary conditions\n",
    "def u0(x):\n",
    "    return  0\n",
    "\n",
    "def ul(t):\n",
    "    return 0\n",
    "\n",
    "def ur(t):\n",
    "    return 0\n",
    "\n",
    "\n",
    "r = tau/h**2\n",
    "u = np.zeros((Nx, Nt))\n",
    " \n",
    "u[:, 0] = u0(x)\n",
    "\n",
    "for n in range(Nt-1):\n",
    "    \n",
    "    u[0, n+1] = ul(t[n+1])\n",
    "    u[-1, n+1] = ur(t[n+1])\n",
    "    \n",
    "    for m in range(1, Nx-1):\n",
    "        u[m, n+1] = u[m, n] + tau*((u[m-1, n] - 2*u[m, n] + u[m+1, n])/h**2 + np.pi**2*np.sin(np.pi*m*h)*n*tau)\n"
   ]
  },
  {
   "cell_type": "code",
   "execution_count": null,
   "id": "89afc158-aedc-45d5-b35a-9385d0ea46bd",
   "metadata": {},
   "outputs": [],
   "source": []
  },
  {
   "cell_type": "markdown",
   "id": "64b214f0-ab06-4268-aa01-27c5845c23a7",
   "metadata": {},
   "source": [
    "__Задача 4.__\n",
    "Построить разностную схему для решения задачи\n",
    "\n",
    "$$\n",
    "\\frac{\\partial}{\\partial x} \\left(u \\frac{\\partial u}{\\partial x}\\right)+\\frac{\\partial}{\\partial y} \\left( u \\frac{\\partial u}{\\partial y}\\right)=0\n",
    "$$\n",
    "\n",
    "в прямоугольной области $0 \\leq x \\leq X, 0 \\leq y \\leq Y$ с граничными условиями \n",
    "\n",
    "$$\n",
    "u(0, y)=1, \\quad u(x, Y)=1+x^2, \\quad u(X, y)=1+X^2 y / Y, \\quad u(x, 0)=1\n",
    "$$\n",
    "\n",
    "Какой порядок аппроксимации у данной численной схемы? Является ли это уравнение линейным? Решите задачу."
   ]
  }
 ],
 "metadata": {
  "kernelspec": {
   "display_name": "Python 3 (ipykernel)",
   "language": "python",
   "name": "python3"
  },
  "language_info": {
   "codemirror_mode": {
    "name": "ipython",
    "version": 3
   },
   "file_extension": ".py",
   "mimetype": "text/x-python",
   "name": "python",
   "nbconvert_exporter": "python",
   "pygments_lexer": "ipython3",
   "version": "3.11.5"
  }
 },
 "nbformat": 4,
 "nbformat_minor": 5
}
