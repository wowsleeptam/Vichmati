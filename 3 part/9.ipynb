{
 "cells": [
  {
   "cell_type": "markdown",
   "id": "9cefe1cd-8360-4654-ba2a-778f8d0fee91",
   "metadata": {},
   "source": [
    "### 1. Локализация корней.\n",
    "\n",
    "Локализовать действительные корни в уравнении:\n",
    "\n",
    "$$\n",
    "f(x)=20 x^{3} - 4 x^{2} - 5 x + 1 .\n",
    "$$"
   ]
  },
  {
   "cell_type": "code",
   "execution_count": 49,
   "id": "a8b3a61b-ac8a-42f1-a363-ad546c02b4bc",
   "metadata": {},
   "outputs": [
    {
     "name": "stdout",
     "output_type": "stream",
     "text": [
      "Первый корень находится в отрезке [ -0.5546875 -0.478515625 ]\n",
      "Второй корень находится в отрезке [ 0.1875 0.26041666666666663 ]\n",
      "Третий корень находится в отрезке [ 0.484375 0.5598958333333333 ]\n"
     ]
    }
   ],
   "source": [
    "def func(x):\n",
    "    return 20*x**3 - 4*x**2 - 5*x + 1\n",
    "\n",
    "eps = 0.1\n",
    "x1 = -1\n",
    "x2 = 0\n",
    "x3 = 1/3\n",
    "x4 = 1\n",
    "\n",
    "\n",
    "\n",
    "# 1 корень\n",
    "xl = -10\n",
    "xr = -1/4\n",
    "\n",
    "while ((abs(xl - xr) > eps)):\n",
    "    xo = (xl+xr)/2\n",
    "    if ((func(xo)*func(xl)) < 0):\n",
    "        xr = xo\n",
    "    if ((func(xo)*func(xl)) > 0):\n",
    "        xl = xo\n",
    "\n",
    "print(\"Первый корень находится в отрезке [\",xl,xr,\"]\" )\n",
    "    \n",
    "\n",
    "# 2 корень\n",
    "xl = -1/4\n",
    "xr = 1/3\n",
    "\n",
    "while ((abs(xl - xr) > eps)):\n",
    "    xo = (xl+xr)/2\n",
    "    if ((func(xo)*func(xl)) < 0):\n",
    "        xr = xo\n",
    "    if ((func(xo)*func(xl)) > 0):\n",
    "        xl = xo\n",
    "\n",
    "print(\"Второй корень находится в отрезке [\",xl,xr,\"]\" )\n",
    "\n",
    "\n",
    "\n",
    "# 3 корень\n",
    "xl = 1/3\n",
    "xr = 10\n",
    "\n",
    "while ((abs(xl - xr) > eps)):\n",
    "    xo = (xl+xr)/2\n",
    "    if ((func(xo)*func(xl)) < 0):\n",
    "        xr = xo\n",
    "    if ((func(xo)*func(xl)) > 0):\n",
    "        xl = xo\n",
    "\n",
    "print(\"Третий корень находится в отрезке [\",xl,xr,\"]\" )"
   ]
  },
  {
   "cell_type": "markdown",
   "id": "1dbeedbc-d24c-4d17-ad95-4b52bb266a53",
   "metadata": {},
   "source": [
    "### 2. Порядок сходимости итерационного метода.\n",
    "\n",
    "Определить порядок сходимости итерационного метода при вычислении квадратного корня $x^* = \\sqrt a$ :\n",
    "\n",
    "\n",
    "\n",
    "$$\n",
    "x_{n+1}=x_n - \\frac{11x_n^4 - 4x_n^2 a + a^2}{16 x_n^5} (x_n^2 - a)\n",
    "$$"
   ]
  },
  {
   "attachments": {
    "d024b17b-2296-46f2-999c-8e010d7d44ec.png": {
     "image/png": "[encoded data removed]"
    }
   },
   "cell_type": "markdown",
   "id": "d02428d1-8b05-4f3c-9b65-4363f1be206a",
   "metadata": {},
   "source": [
    "![image.png](attachment:d024b17b-2296-46f2-999c-8e010d7d44ec.png)"
   ]
  },
  {
   "cell_type": "markdown",
   "id": "6afa38f8-0e3e-4488-9d4c-41729d617910",
   "metadata": {},
   "source": [
    "$\\Phi^{(1)}(x) = -\\frac{3}{8}$ at $ x^* = \\sqrt{a} $, тогда по теореме сходимости итерационного метода равно 1"
   ]
  },
  {
   "cell_type": "markdown",
   "id": "f753e3e4-8626-4b45-8066-0f45d38e6206",
   "metadata": {},
   "source": [
    "### 4. Зри в корень\n",
    "\n",
    "Отделить корни следующих уравнений, а затем уточнить один из них с помощью подходящего итерационно процесса (любых двух на ваш выбор двумя разными методами):\n",
    "\n",
    "\n",
    "a) $(0.5)^x+1=(x-1)^2$,\n",
    "\n",
    "__b)__ $(x-3) \\cos x=1, \\quad-2 \\pi \\leq \\mathrm{x} \\leq 2 \\pi$,\n",
    "\n",
    "c) $\\operatorname{arctg}(x-1)+2 x=0$,\n",
    "\n",
    "__d)__ $x^2-20 \\sin x=0$\n",
    "\n",
    "e) $2 \\operatorname{tg} x-x / 2+1=0$,\n",
    "\n",
    "__f)__ $2 \\lg x-x / 2+1=0$,\n",
    "\n",
    "g) $x^2-e^x / 5=0$\n",
    "\n",
    "__h)__ $\\ln x+(x-1)^3=0$,\n",
    "\n",
    "i) $x 2^x=1$\n",
    "\n",
    "__j)__ $(x+1)^{0.5}=1 / x$."
   ]
  },
  {
   "cell_type": "code",
   "execution_count": 103,
   "id": "569f245d-3f27-4eb9-a45f-b228434fb817",
   "metadata": {},
   "outputs": [],
   "source": [
    "import numpy as np\n",
    "\n",
    "import sympy as smp"
   ]
  },
  {
   "cell_type": "code",
   "execution_count": 150,
   "id": "3fdae4f3-32c4-4046-a3b6-954b95ef3d86",
   "metadata": {},
   "outputs": [
    {
     "name": "stdout",
     "output_type": "stream",
     "text": [
      "Первый корень находится в отрезке [ 0.5510204081632653 0.673469387755102 ]\n",
      "Корень 0.6412047180770627\n"
     ]
    }
   ],
   "source": [
    "def func1(x):\n",
    "    return 2**(-x)\n",
    "\n",
    "x = np.linspace(0,3,50)\n",
    "value_1 = np.argmin(abs(func1(x) - x))\n",
    "xr = x[value_1 + 1]\n",
    "xl = x[value_1 - 1]\n",
    "print(\"Первый корень находится в отрезке [\",xl,xr,\"]\" )\n",
    "\n",
    "\n",
    "\n",
    "eps = 0.0001\n",
    "\n",
    "xn = 10\n",
    "xn_1 = 6\n",
    "while (abs(xn - xn_1) > eps):\n",
    "    xn = xn_1\n",
    "    xn_1 = func1(xn_1)\n",
    "print(\"Корень\", xn_1)\n",
    "\n"
   ]
  },
  {
   "cell_type": "code",
   "execution_count": 151,
   "id": "102233ea-81c3-40bc-8dcf-cbb5f6ea1da1",
   "metadata": {},
   "outputs": [
    {
     "name": "stdout",
     "output_type": "stream",
     "text": [
      "Первый корень находится в отрезке [ 1.4545454545454546 1.5151515151515151 ]\n",
      "Второй корень находится в отрезке [ 2.5454545454545454 2.606060606060606 ]\n",
      "Первый корень 2.6183595116862346\n",
      "Второй корень 1.4879618819282947\n"
     ]
    }
   ],
   "source": [
    "def func2(x):\n",
    "    return np.sqrt(np.e**x/2)\n",
    "\n",
    "x = np.linspace(0,3,100)\n",
    "value_1 = np.argmin(abs(func2(x) - x))\n",
    "xr = x[value_1 + 1]\n",
    "xl = x[value_1 - 1]\n",
    "print(\"Первый корень находится в отрезке [\",xl,xr,\"]\" )\n",
    "x_1 = np.delete(x,value_1)\n",
    "value_2 = np.argmin(abs(func2(x_1) - x_1))\n",
    "xr = x[value_2 + 1]\n",
    "xl = x[value_2 - 1]\n",
    "print(\"Второй корень находится в отрезке [\",xl,xr,\"]\" )\n",
    "\n",
    "\n",
    "\n",
    "eps = 0.001\n",
    "def newton(z0, f, fprime, MAX_IT=1000):\n",
    "    \"\"\"The Newton-Raphson method applied to f(z).\n",
    "\n",
    "    Returns the root found, starting with an initial guess, z0, or False\n",
    "    if no convergence to tolerance TOL was reached within MAX_IT iterations.\n",
    "\n",
    "    \"\"\"\n",
    "\n",
    "    z = z0\n",
    "    for i in range(MAX_IT):\n",
    "\n",
    "        # Вместо всей этой секции z = optimize.newton(f, z0, fprime)\n",
    "\n",
    "        dz = f(z)/fprime(z)\n",
    "        if abs(dz) < eps:\n",
    "            return z\n",
    "        z -= dz\n",
    "    return False\n",
    "\n",
    "f = lambda x: x**2 - np.exp(x)/2\n",
    "fprime = lambda x: 2*x - np.exp(x)/2\n",
    "r = newton(3, f, fprime)\n",
    "print(\"Первый корень\", r)\n",
    "r = newton(1, f, fprime)\n",
    "print(\"Второй корень\", r)"
   ]
  },
  {
   "cell_type": "markdown",
   "id": "46585669-8df9-43d7-a607-5fd9e0f8afe7",
   "metadata": {},
   "source": [
    "### 5. Зри в корень дважды\n",
    "\n",
    "Вычислить с точностью $\\varepsilon=10^{-3}$ координаты точек пересечения кривых (любых двух на ваш выбор двумя разными методами):\n",
    "\n",
    "a)\n",
    "$$\n",
    "\\left\\{\\begin{array}{l}\n",
    "\\sin (x+1)-y=1.2 \\\\\n",
    "2 x+\\cos (y)=2\n",
    "\\end{array}\\right.\n",
    "$$\n",
    "б)\n",
    "$$\n",
    "\\left\\{\\begin{array}{l}\n",
    "\\tan (x y+0.4)=x^2 \\\\\n",
    "0.6 x^2+2 y^2=1\n",
    "\\end{array}\\right.\n",
    "$$\n",
    "B)\n",
    "$$\n",
    "\\left\\{\\begin{array}{l}\n",
    "\\cos (x-1)+y=0.5 \\\\\n",
    "x-\\cos (y)=3\n",
    "\\end{array}\\right.\n",
    "$$\n",
    "г)\n",
    "$$\n",
    "\\left\\{\\begin{array}{l}\n",
    "\\sin (x+2)-y=1.5 \\\\\n",
    "x+\\cos (y-2)=0.5\n",
    "\\end{array}\\right.\n",
    "$$"
   ]
  },
  {
   "cell_type": "code",
   "execution_count": 154,
   "id": "9af8ddec-2999-4efa-ad10-a84528beeaef",
   "metadata": {},
   "outputs": [
    {
     "name": "stdout",
     "output_type": "stream",
     "text": [
      "Система уравнений:\n"
     ]
    },
    {
     "data": {
      "text/latex": [
       "$\\displaystyle - y + \\sin{\\left(x + 2 \\right)} - 1.5$"
      ],
      "text/plain": [
       "-y + sin(x + 2) - 1.5"
      ]
     },
     "metadata": {},
     "output_type": "display_data"
    },
    {
     "data": {
      "text/latex": [
       "$\\displaystyle x + \\cos{\\left(y - 2 \\right)} - 0.5$"
      ],
      "text/plain": [
       "x + cos(y - 2) - 0.5"
      ]
     },
     "metadata": {},
     "output_type": "display_data"
    },
    {
     "name": "stdout",
     "output_type": "stream",
     "text": [
      "\n",
      "Матрица Якоби:\n"
     ]
    },
    {
     "data": {
      "text/latex": [
       "$\\displaystyle \\left[\\begin{matrix}\\cos{\\left(x + 2 \\right)} & -1\\\\1 & - \\sin{\\left(y - 2 \\right)}\\end{matrix}\\right]$"
      ],
      "text/plain": [
       "Matrix([\n",
       "[cos(x + 2),          -1],\n",
       "[         1, -sin(y - 2)]])"
      ]
     },
     "metadata": {},
     "output_type": "display_data"
    }
   ],
   "source": [
    "# Не хотим вычислять матрицу Якоби ручками - символьные вычисления спешат на помощь\n",
    "import sympy as smp\n",
    "\n",
    "# Определение переменных\n",
    "x, y = smp.symbols('x y')\n",
    "\n",
    "# Определение уравнений\n",
    "eq1 = smp.sin(x + 2) - y - 1.5\n",
    "eq2 = x + smp.cos(y - 2) - 0.5\n",
    "\n",
    "# Создание списка уравнений\n",
    "equations = [eq1, eq2]\n",
    "\n",
    "# Нахождение Якобиана\n",
    "Jacobian_matrix = smp.Matrix([[smp.diff(eq, var) for var in (x, y)] for eq in equations])\n",
    "\n",
    "# Вывод уравнений и матрицы Якоби\n",
    "print(\"Система уравнений:\")\n",
    "for eq in equations:\n",
    "    display(eq)\n",
    "\n",
    "print(\"\\nМатрица Якоби:\")\n",
    "display(Jacobian_matrix)\n"
   ]
  },
  {
   "cell_type": "code",
   "execution_count": 157,
   "id": "25704e07-f909-4f50-aae3-25f839210e18",
   "metadata": {},
   "outputs": [],
   "source": [
    "import numpy as np\n",
    "\n",
    "def F(x):\n",
    "    return np.array(\n",
    "        [-x[1] + np.sin(x[0] + 2) - 1.5,\n",
    "         x[0] + np.cos(x[1] - 2) - 0.5])\n",
    "\n",
    "def J(x):\n",
    "    return np.array(\n",
    "        [[np.cos(x[0] + 2), -1],\n",
    "         [1, -np.sin(x[1] - 2)]])\n",
    "\n",
    "def Newton_system(F, J, x, eps):\n",
    "    \"\"\"\n",
    "    Solve nonlinear system F=0 by Newton's method.\n",
    "    J is the Jacobian of F. Both F and J must be functions of x.\n",
    "    At input, x holds the start value. The iteration continues\n",
    "    until ||F|| < eps.\n",
    "    \"\"\"\n",
    "    F_value = F(x)\n",
    "    F_norm = np.linalg.norm(F_value, ord=2)  # l2 norm of vector\n",
    "    iteration_counter = 0\n",
    "    while abs(F_norm) > eps and iteration_counter < 100:\n",
    "        delta = np.linalg.solve(J(x), -F_value)\n",
    "        x = x + delta\n",
    "        F_value = F(x)\n",
    "        F_norm = np.linalg.norm(F_value, ord=2)\n",
    "        iteration_counter += 1\n",
    "\n",
    "    # Here, either a solution is found, or too many iterations\n",
    "    if abs(F_norm) > eps:\n",
    "        iteration_counter = -1\n",
    "    return x, iteration_counter"
   ]
  },
  {
   "cell_type": "code",
   "execution_count": 162,
   "id": "ad722ba1-a0eb-497e-9c2e-90bbdff64f8b",
   "metadata": {},
   "outputs": [
    {
     "name": "stdout",
     "output_type": "stream",
     "text": [
      "[ 1.34654285 -1.70353787]\n"
     ]
    }
   ],
   "source": [
    "x, n = Newton_system(F, J, x=np.array([2., -1.]), eps=0.001)\n",
    "print(x)"
   ]
  },
  {
   "cell_type": "code",
   "execution_count": 161,
   "id": "507fa9ec-84a5-46e8-af86-95ad485260dc",
   "metadata": {},
   "outputs": [
    {
     "name": "stdout",
     "output_type": "stream",
     "text": [
      "Корень [ 0.51014075 -0.20184645]\n"
     ]
    }
   ],
   "source": [
    "def y_eq(x):\n",
    "    return np.sin(x[0] + 1) - 1.2\n",
    "\n",
    "def x_eq(x):\n",
    "    return 1 - np.cos(x[1])/2\n",
    "\n",
    "\n",
    "\n",
    "eps = 0.001\n",
    "\n",
    "xn = np.array([1,1])\n",
    "xn_1 = np.array([2,2])\n",
    "while (np.linalg.norm(xn_1 - xn) > eps):\n",
    "    xn = xn_1\n",
    "    xn_1 = np.array([x_eq(xn_1), y_eq(xn_1)])\n",
    "print(\"Корень\", xn_1)\n"
   ]
  }
 ],
 "metadata": {
  "kernelspec": {
   "display_name": "Python 3 (ipykernel)",
   "language": "python",
   "name": "python3"
  },
  "language_info": {
   "codemirror_mode": {
    "name": "ipython",
    "version": 3
   },
   "file_extension": ".py",
   "mimetype": "text/x-python",
   "name": "python",
   "nbconvert_exporter": "python",
   "pygments_lexer": "ipython3",
   "version": "3.11.5"
  }
 },
 "nbformat": 4,
 "nbformat_minor": 5
}
